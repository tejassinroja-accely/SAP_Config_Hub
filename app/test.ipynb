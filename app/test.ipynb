{
 "cells": [
  {
   "cell_type": "code",
   "execution_count": 1,
   "id": "7f04c6ad",
   "metadata": {},
   "outputs": [
    {
     "data": {
      "image/png": "[encoded data removed]",
      "text/plain": [
       "<langgraph.graph.state.CompiledStateGraph object at 0x000002B4C1B32030>"
      ]
     },
     "execution_count": 1,
     "metadata": {},
     "output_type": "execute_result"
    }
   ],
   "source": [
    "from sap_config_hub import parent_graph\n",
    "parent_graph"
   ]
  },
  {
   "cell_type": "code",
   "execution_count": 16,
   "id": "d3d6bc9c",
   "metadata": {},
   "outputs": [],
   "source": [
    "from app.sap_config_hub import config, AgentState, HumanMessage\n",
    "\n",
    "# result = await config.run_graph(AgentState(messages=[HumanMessage(content=\"Go to the url of successfactors then put company id then click continue then put username then put password then clikc continue and you are logged in\")]))\n",
    "# print(result)"
   ]
  },
  {
   "cell_type": "code",
   "execution_count": 15,
   "id": "f4d09c8f",
   "metadata": {},
   "outputs": [
    {
     "name": "stdout",
     "output_type": "stream",
     "text": [
      "2025-10-08 17:01:19 | INFO | SAP_Config_Hub | Generating Plan...\n",
      "2025-10-08 17:01:24 | INFO | SAP_Config_Hub | Plan generated.\n",
      "{'planner': {'messages': [AIMessage(content='', additional_kwargs={'tool_calls': [{'id': 'call_46x6pC8GzlrNxtE05DmxaKgR', 'function': {'arguments': '{\"todos\":[{\"content\":\"Go to the SuccessFactors login URL.\",\"status\":\"pending\"},{\"content\":\"Enter the company ID and click Continue.\",\"status\":\"pending\"},{\"content\":\"Enter the username and click Continue.\",\"status\":\"pending\"},{\"content\":\"Enter the password and click Continue.\",\"status\":\"pending\"},{\"content\":\"Confirm successful login to SuccessFactors account.\",\"status\":\"pending\"}]}', 'name': 'write_todos'}, 'type': 'function'}], 'refusal': None}, response_metadata={'token_usage': {'completion_tokens': 84, 'prompt_tokens': 4089, 'total_tokens': 4173, 'completion_tokens_details': {'accepted_prediction_tokens': 0, 'audio_tokens': 0, 'reasoning_tokens': 0, 'rejected_prediction_tokens': 0}, 'prompt_tokens_details': {'audio_tokens': 0, 'cached_tokens': 3968}}, 'model_name': 'gpt-4.1-2025-04-14', 'system_fingerprint': 'fp_4d7b201289', 'id': 'chatcmpl-COMgufqm84bv4QEREemRhVedfKYyy', 'service_tier': None, 'prompt_filter_results': [{'prompt_index': 0, 'content_filter_results': {'hate': {'filtered': False, 'severity': 'safe'}, 'jailbreak': {'filtered': False, 'detected': False}, 'self_harm': {'filtered': False, 'severity': 'safe'}, 'sexual': {'filtered': False, 'severity': 'safe'}, 'violence': {'filtered': False, 'severity': 'safe'}}}], 'finish_reason': 'tool_calls', 'logprobs': None, 'content_filter_results': {}}, id='run--43fe8ade-a6fb-4983-973c-46bdb16c75da-0', tool_calls=[{'name': 'write_todos', 'args': {'todos': [{'content': 'Go to the SuccessFactors login URL.', 'status': 'pending'}, {'content': 'Enter the company ID and click Continue.', 'status': 'pending'}, {'content': 'Enter the username and click Continue.', 'status': 'pending'}, {'content': 'Enter the password and click Continue.', 'status': 'pending'}, {'content': 'Confirm successful login to SuccessFactors account.', 'status': 'pending'}]}, 'id': 'call_46x6pC8GzlrNxtE05DmxaKgR', 'type': 'tool_call'}], usage_metadata={'input_tokens': 4089, 'output_tokens': 84, 'total_tokens': 4173, 'input_token_details': {'audio': 0, 'cache_read': 3968}, 'output_token_details': {'audio': 0, 'reasoning': 0}})]}}\n",
      "{'tools': {'todos': [{'content': 'Go to the SuccessFactors login URL.', 'status': 'pending'}, {'content': 'Enter the company ID and click Continue.', 'status': 'pending'}, {'content': 'Enter the username and click Continue.', 'status': 'pending'}, {'content': 'Enter the password and click Continue.', 'status': 'pending'}, {'content': 'Confirm successful login to SuccessFactors account.', 'status': 'pending'}], 'messages': [ToolMessage(content=\"Updated todo list to [{'content': 'Go to the SuccessFactors login URL.', 'status': 'pending'}, {'content': 'Enter the company ID and click Continue.', 'status': 'pending'}, {'content': 'Enter the username and click Continue.', 'status': 'pending'}, {'content': 'Enter the password and click Continue.', 'status': 'pending'}, {'content': 'Confirm successful login to SuccessFactors account.', 'status': 'pending'}]\", name='write_todos', id='4406d426-c412-457c-824a-b9bf69ecee76', tool_call_id='call_46x6pC8GzlrNxtE05DmxaKgR')]}}\n",
      "None\n"
     ]
    }
   ],
   "source": [
    "result = await config.run_graph(AgentState(messages=[HumanMessage(content=\"Go to the url of successfactors then put company id then click continue then put username then put password then clikc continue and you are logged in\")]))\n",
    "print(result)"
   ]
  },
  {
   "cell_type": "code",
   "execution_count": 17,
   "id": "1f8acfa8",
   "metadata": {},
   "outputs": [
    {
     "name": "stdout",
     "output_type": "stream",
     "text": [
      "2025-10-08 17:07:02 | INFO | SAP_Config_Hub | Generating Plan...\n",
      "2025-10-08 17:07:06 | INFO | SAP_Config_Hub | Plan generated.\n",
      "{'planner': {'messages': [AIMessage(content='', additional_kwargs={'tool_calls': [{'id': 'call_0q7aLrTNaWmVEB2EQ7GgQjw4', 'function': {'arguments': '{\"todos\":[{\"content\":\"Navigate to SuccessFactors login URL\",\"status\":\"pending\"},{\"content\":\"Enter company ID in the designated field and click \\'Continue\\'\",\"status\":\"pending\"},{\"content\":\"Enter username in the username field\",\"status\":\"pending\"},{\"content\":\"Enter password in the password field\",\"status\":\"pending\"},{\"content\":\"Click \\'Continue\\' to submit login credentials\",\"status\":\"pending\"},{\"content\":\"Verify successful login to SuccessFactors dashboard\",\"status\":\"pending\"}]}', 'name': 'write_todos'}, 'type': 'function'}], 'refusal': None}, response_metadata={'token_usage': {'completion_tokens': 103, 'prompt_tokens': 4089, 'total_tokens': 4192, 'completion_tokens_details': {'accepted_prediction_tokens': 0, 'audio_tokens': 0, 'reasoning_tokens': 0, 'rejected_prediction_tokens': 0}, 'prompt_tokens_details': {'audio_tokens': 0, 'cached_tokens': 3968}}, 'model_name': 'gpt-4.1-2025-04-14', 'system_fingerprint': 'fp_f99638a8d7', 'id': 'chatcmpl-COMmQq2mJOm8Bxud31GNojWBcoLQV', 'service_tier': None, 'prompt_filter_results': [{'prompt_index': 0, 'content_filter_results': {'hate': {'filtered': False, 'severity': 'safe'}, 'jailbreak': {'filtered': False, 'detected': False}, 'self_harm': {'filtered': False, 'severity': 'safe'}, 'sexual': {'filtered': False, 'severity': 'safe'}, 'violence': {'filtered': False, 'severity': 'safe'}}}], 'finish_reason': 'tool_calls', 'logprobs': None, 'content_filter_results': {}}, id='run--b28988f8-59d8-4a99-94d9-d47c66d3ef09-0', tool_calls=[{'name': 'write_todos', 'args': {'todos': [{'content': 'Navigate to SuccessFactors login URL', 'status': 'pending'}, {'content': \"Enter company ID in the designated field and click 'Continue'\", 'status': 'pending'}, {'content': 'Enter username in the username field', 'status': 'pending'}, {'content': 'Enter password in the password field', 'status': 'pending'}, {'content': \"Click 'Continue' to submit login credentials\", 'status': 'pending'}, {'content': 'Verify successful login to SuccessFactors dashboard', 'status': 'pending'}]}, 'id': 'call_0q7aLrTNaWmVEB2EQ7GgQjw4', 'type': 'tool_call'}], usage_metadata={'input_tokens': 4089, 'output_tokens': 103, 'total_tokens': 4192, 'input_token_details': {'audio': 0, 'cache_read': 3968}, 'output_token_details': {'audio': 0, 'reasoning': 0}})]}}\n",
      "{'tools': {'todos': [{'content': 'Navigate to SuccessFactors login URL', 'status': 'pending'}, {'content': \"Enter company ID in the designated field and click 'Continue'\", 'status': 'pending'}, {'content': 'Enter username in the username field', 'status': 'pending'}, {'content': 'Enter password in the password field', 'status': 'pending'}, {'content': \"Click 'Continue' to submit login credentials\", 'status': 'pending'}, {'content': 'Verify successful login to SuccessFactors dashboard', 'status': 'pending'}], 'messages': [ToolMessage(content='Updated todo list to [{\\'content\\': \\'Navigate to SuccessFactors login URL\\', \\'status\\': \\'pending\\'}, {\\'content\\': \"Enter company ID in the designated field and click \\'Continue\\'\", \\'status\\': \\'pending\\'}, {\\'content\\': \\'Enter username in the username field\\', \\'status\\': \\'pending\\'}, {\\'content\\': \\'Enter password in the password field\\', \\'status\\': \\'pending\\'}, {\\'content\\': \"Click \\'Continue\\' to submit login credentials\", \\'status\\': \\'pending\\'}, {\\'content\\': \\'Verify successful login to SuccessFactors dashboard\\', \\'status\\': \\'pending\\'}]', name='write_todos', id='7a31b189-80d9-4cce-81e3-7c88b77a962c', tool_call_id='call_0q7aLrTNaWmVEB2EQ7GgQjw4')]}}\n",
      "None\n"
     ]
    }
   ],
   "source": [
    "result = await config.run_graph(AgentState(messages=[HumanMessage(content=\"Go to the url of successfactors then put company id then click continue then put username then put password then clikc continue and you are logged in\")]))\n",
    "print(result)"
   ]
  },
  {
   "cell_type": "code",
   "execution_count": 18,
   "id": "c0df4721",
   "metadata": {},
   "outputs": [],
   "source": [
    "todos = [{'content': 'Go to the SuccessFactors login URL', 'status': 'pending'}, {'content': 'Enter the company ID and click Continue', 'status': 'pending'}, {'content': 'Enter the username', 'status': 'pending'}, {'content': 'Enter the password', 'status': 'pending'}, {'content': 'Click Continue to log in to SuccessFactors', 'status': 'pending'}]"
   ]
  },
  {
   "cell_type": "code",
   "execution_count": 20,
   "id": "d57278e0",
   "metadata": {},
   "outputs": [
    {
     "name": "stdout",
     "output_type": "stream",
     "text": [
      "{'content': 'Go to the SuccessFactors login URL', 'status': 'pending'}\n",
      "{'content': 'Enter the company ID and click Continue', 'status': 'pending'}\n",
      "{'content': 'Enter the username', 'status': 'pending'}\n",
      "{'content': 'Enter the password', 'status': 'pending'}\n",
      "{'content': 'Click Continue to log in to SuccessFactors', 'status': 'pending'}\n"
     ]
    }
   ],
   "source": [
    "for todo in todos:\n",
    "    print(todo)"
   ]
  },
  {
   "cell_type": "code",
   "execution_count": 23,
   "id": "4eaad82c",
   "metadata": {},
   "outputs": [
    {
     "name": "stdout",
     "output_type": "stream",
     "text": [
      "{'sum': 5, 'summary': 'The sum of 2 + 3 is 5.'}\n"
     ]
    }
   ],
   "source": [
    "from langchain_core.tools import tool\n",
    "from langchain_core.messages import HumanMessage\n",
    "\n",
    "@tool\n",
    "def add(a:int, b:int):\n",
    "    \"add a and b: a+b\"\n",
    "    c = a+b\n",
    "    return c\n",
    "from typing import TypedDict\n",
    "class Addition(TypedDict):\n",
    "    sum: int\n",
    "    summary: str\n",
    "\n",
    "from app.config import llm\n",
    "\n",
    "model_with_tools = llm.bind_tools([add]).with_structured_output(Addition)\n",
    "\n",
    "\n",
    "response = model_with_tools.invoke([HumanMessage(content=\"add 2+3\")])\n",
    "print(response)"
   ]
  },
  {
   "cell_type": "code",
   "execution_count": null,
   "id": "f670ddf3",
   "metadata": {},
   "outputs": [],
   "source": []
  }
 ],
 "metadata": {
  "kernelspec": {
   "display_name": "SAP_Config_Hub",
   "language": "python",
   "name": "python3"
  },
  "language_info": {
   "codemirror_mode": {
    "name": "ipython",
    "version": 3
   },
   "file_extension": ".py",
   "mimetype": "text/x-python",
   "name": "python",
   "nbconvert_exporter": "python",
   "pygments_lexer": "ipython3",
   "version": "3.12.11"
  }
 },
 "nbformat": 4,
 "nbformat_minor": 5
}
