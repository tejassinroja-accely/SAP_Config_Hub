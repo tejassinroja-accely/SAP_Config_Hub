{
 "cells": [
  {
   "cell_type": "code",
   "execution_count": 1,
   "id": "7f04c6ad",
   "metadata": {},
   "outputs": [
    {
     "data": {
      "image/png": "[encoded data removed]",
      "text/plain": [
       "<langgraph.graph.state.CompiledStateGraph object at 0x000002B4C1B32030>"
      ]
     },
     "execution_count": 1,
     "metadata": {},
     "output_type": "execute_result"
    }
   ],
   "source": [
    "from sap_config_hub import parent_graph\n",
    "parent_graph"
   ]
  },
  {
   "cell_type": "code",
   "execution_count": 16,
   "id": "d3d6bc9c",
   "metadata": {},
   "outputs": [],
   "source": [
    "from app.sap_config_hub import config, AgentState, HumanMessage\n",
    "\n",
    "# result = await config.run_graph(AgentState(messages=[HumanMessage(content=\"Go to the url of successfactors then put company id then click continue then put username then put password then clikc continue and you are logged in\")]))\n",
    "# print(result)"
   ]
  },
  {
   "cell_type": "code",
   "execution_count": 15,
   "id": "f4d09c8f",
   "metadata": {},
   "outputs": [
    {
     "name": "stdout",
     "output_type": "stream",
     "text": [
      "2025-10-08 17:01:19 | INFO | SAP_Config_Hub | Generating Plan...\n",
      "2025-10-08 17:01:24 | INFO | SAP_Config_Hub | Plan generated.\n",
      "{'planner': {'messages': [AIMessage(content='', additional_kwargs={'tool_calls': [{'id': 'call_46x6pC8GzlrNxtE05DmxaKgR', 'function': {'arguments': '{\"todos\":[{\"content\":\"Go to the SuccessFactors login URL.\",\"status\":\"pending\"},{\"content\":\"Enter the company ID and click Continue.\",\"status\":\"pending\"},{\"content\":\"Enter the username and click Continue.\",\"status\":\"pending\"},{\"content\":\"Enter the password and click Continue.\",\"status\":\"pending\"},{\"content\":\"Confirm successful login to SuccessFactors account.\",\"status\":\"pending\"}]}', 'name': 'write_todos'}, 'type': 'function'}], 'refusal': None}, response_metadata={'token_usage': {'completion_tokens': 84, 'prompt_tokens': 4089, 'total_tokens': 4173, 'completion_tokens_details': {'accepted_prediction_tokens': 0, 'audio_tokens': 0, 'reasoning_tokens': 0, 'rejected_prediction_tokens': 0}, 'prompt_tokens_details': {'audio_tokens': 0, 'cached_tokens': 3968}}, 'model_name': 'gpt-4.1-2025-04-14', 'system_fingerprint': 'fp_4d7b201289', 'id': 'chatcmpl-COMgufqm84bv4QEREemRhVedfKYyy', 'service_tier': None, 'prompt_filter_results': [{'prompt_index': 0, 'content_filter_results': {'hate': {'filtered': False, 'severity': 'safe'}, 'jailbreak': {'filtered': False, 'detected': False}, 'self_harm': {'filtered': False, 'severity': 'safe'}, 'sexual': {'filtered': False, 'severity': 'safe'}, 'violence': {'filtered': False, 'severity': 'safe'}}}], 'finish_reason': 'tool_calls', 'logprobs': None, 'content_filter_results': {}}, id='run--43fe8ade-a6fb-4983-973c-46bdb16c75da-0', tool_calls=[{'name': 'write_todos', 'args': {'todos': [{'content': 'Go to the SuccessFactors login URL.', 'status': 'pending'}, {'content': 'Enter the company ID and click Continue.', 'status': 'pending'}, {'content': 'Enter the username and click Continue.', 'status': 'pending'}, {'content': 'Enter the password and click Continue.', 'status': 'pending'}, {'content': 'Confirm successful login to SuccessFactors account.', 'status': 'pending'}]}, 'id': 'call_46x6pC8GzlrNxtE05DmxaKgR', 'type': 'tool_call'}], usage_metadata={'input_tokens': 4089, 'output_tokens': 84, 'total_tokens': 4173, 'input_token_details': {'audio': 0, 'cache_read': 3968}, 'output_token_details': {'audio': 0, 'reasoning': 0}})]}}\n",
      "{'tools': {'todos': [{'content': 'Go to the SuccessFactors login URL.', 'status': 'pending'}, {'content': 'Enter the company ID and click Continue.', 'status': 'pending'}, {'content': 'Enter the username and click Continue.', 'status': 'pending'}, {'content': 'Enter the password and click Continue.', 'status': 'pending'}, {'content': 'Confirm successful login to SuccessFactors account.', 'status': 'pending'}], 'messages': [ToolMessage(content=\"Updated todo list to [{'content': 'Go to the SuccessFactors login URL.', 'status': 'pending'}, {'content': 'Enter the company ID and click Continue.', 'status': 'pending'}, {'content': 'Enter the username and click Continue.', 'status': 'pending'}, {'content': 'Enter the password and click Continue.', 'status': 'pending'}, {'content': 'Confirm successful login to SuccessFactors account.', 'status': 'pending'}]\", name='write_todos', id='4406d426-c412-457c-824a-b9bf69ecee76', tool_call_id='call_46x6pC8GzlrNxtE05DmxaKgR')]}}\n",
      "None\n"
     ]
    }
   ],
   "source": [
    "result = await config.run_graph(AgentState(messages=[HumanMessage(content=\"Go to the url of successfactors then put company id then click continue then put username then put password then clikc continue and you are logged in\")]))\n",
    "print(result)"
   ]
  },
  {
   "cell_type": "code",
   "execution_count": 17,
   "id": "1f8acfa8",
   "metadata": {},
   "outputs": [
    {
     "name": "stdout",
     "output_type": "stream",
     "text": [
      "2025-10-08 17:07:02 | INFO | SAP_Config_Hub | Generating Plan...\n",
      "2025-10-08 17:07:06 | INFO | SAP_Config_Hub | Plan generated.\n",
      "{'planner': {'messages': [AIMessage(content='', additional_kwargs={'tool_calls': [{'id': 'call_0q7aLrTNaWmVEB2EQ7GgQjw4', 'function': {'arguments': '{\"todos\":[{\"content\":\"Navigate to SuccessFactors login URL\",\"status\":\"pending\"},{\"content\":\"Enter company ID in the designated field and click \\'Continue\\'\",\"status\":\"pending\"},{\"content\":\"Enter username in the username field\",\"status\":\"pending\"},{\"content\":\"Enter password in the password field\",\"status\":\"pending\"},{\"content\":\"Click \\'Continue\\' to submit login credentials\",\"status\":\"pending\"},{\"content\":\"Verify successful login to SuccessFactors dashboard\",\"status\":\"pending\"}]}', 'name': 'write_todos'}, 'type': 'function'}], 'refusal': None}, response_metadata={'token_usage': {'completion_tokens': 103, 'prompt_tokens': 4089, 'total_tokens': 4192, 'completion_tokens_details': {'accepted_prediction_tokens': 0, 'audio_tokens': 0, 'reasoning_tokens': 0, 'rejected_prediction_tokens': 0}, 'prompt_tokens_details': {'audio_tokens': 0, 'cached_tokens': 3968}}, 'model_name': 'gpt-4.1-2025-04-14', 'system_fingerprint': 'fp_f99638a8d7', 'id': 'chatcmpl-COMmQq2mJOm8Bxud31GNojWBcoLQV', 'service_tier': None, 'prompt_filter_results': [{'prompt_index': 0, 'content_filter_results': {'hate': {'filtered': False, 'severity': 'safe'}, 'jailbreak': {'filtered': False, 'detected': False}, 'self_harm': {'filtered': False, 'severity': 'safe'}, 'sexual': {'filtered': False, 'severity': 'safe'}, 'violence': {'filtered': False, 'severity': 'safe'}}}], 'finish_reason': 'tool_calls', 'logprobs': None, 'content_filter_results': {}}, id='run--b28988f8-59d8-4a99-94d9-d47c66d3ef09-0', tool_calls=[{'name': 'write_todos', 'args': {'todos': [{'content': 'Navigate to SuccessFactors login URL', 'status': 'pending'}, {'content': \"Enter company ID in the designated field and click 'Continue'\", 'status': 'pending'}, {'content': 'Enter username in the username field', 'status': 'pending'}, {'content': 'Enter password in the password field', 'status': 'pending'}, {'content': \"Click 'Continue' to submit login credentials\", 'status': 'pending'}, {'content': 'Verify successful login to SuccessFactors dashboard', 'status': 'pending'}]}, 'id': 'call_0q7aLrTNaWmVEB2EQ7GgQjw4', 'type': 'tool_call'}], usage_metadata={'input_tokens': 4089, 'output_tokens': 103, 'total_tokens': 4192, 'input_token_details': {'audio': 0, 'cache_read': 3968}, 'output_token_details': {'audio': 0, 'reasoning': 0}})]}}\n",
      "{'tools': {'todos': [{'content': 'Navigate to SuccessFactors login URL', 'status': 'pending'}, {'content': \"Enter company ID in the designated field and click 'Continue'\", 'status': 'pending'}, {'content': 'Enter username in the username field', 'status': 'pending'}, {'content': 'Enter password in the password field', 'status': 'pending'}, {'content': \"Click 'Continue' to submit login credentials\", 'status': 'pending'}, {'content': 'Verify successful login to SuccessFactors dashboard', 'status': 'pending'}], 'messages': [ToolMessage(content='Updated todo list to [{\\'content\\': \\'Navigate to SuccessFactors login URL\\', \\'status\\': \\'pending\\'}, {\\'content\\': \"Enter company ID in the designated field and click \\'Continue\\'\", \\'status\\': \\'pending\\'}, {\\'content\\': \\'Enter username in the username field\\', \\'status\\': \\'pending\\'}, {\\'content\\': \\'Enter password in the password field\\', \\'status\\': \\'pending\\'}, {\\'content\\': \"Click \\'Continue\\' to submit login credentials\", \\'status\\': \\'pending\\'}, {\\'content\\': \\'Verify successful login to SuccessFactors dashboard\\', \\'status\\': \\'pending\\'}]', name='write_todos', id='7a31b189-80d9-4cce-81e3-7c88b77a962c', tool_call_id='call_0q7aLrTNaWmVEB2EQ7GgQjw4')]}}\n",
      "None\n"
     ]
    }
   ],
   "source": [
    "result = await config.run_graph(AgentState(messages=[HumanMessage(content=\"Go to the url of successfactors then put company id then click continue then put username then put password then clikc continue and you are logged in\")]))\n",
    "print(result)"
   ]
  },
  {
   "cell_type": "code",
   "execution_count": 18,
   "id": "c0df4721",
   "metadata": {},
   "outputs": [],
   "source": [
    "todos = [{'content': 'Go to the SuccessFactors login URL', 'status': 'pending'}, {'content': 'Enter the company ID and click Continue', 'status': 'pending'}, {'content': 'Enter the username', 'status': 'pending'}, {'content': 'Enter the password', 'status': 'pending'}, {'content': 'Click Continue to log in to SuccessFactors', 'status': 'pending'}]"
   ]
  },
  {
   "cell_type": "code",
   "execution_count": 20,
   "id": "d57278e0",
   "metadata": {},
   "outputs": [
    {
     "name": "stdout",
     "output_type": "stream",
     "text": [
      "{'content': 'Go to the SuccessFactors login URL', 'status': 'pending'}\n",
      "{'content': 'Enter the company ID and click Continue', 'status': 'pending'}\n",
      "{'content': 'Enter the username', 'status': 'pending'}\n",
      "{'content': 'Enter the password', 'status': 'pending'}\n",
      "{'content': 'Click Continue to log in to SuccessFactors', 'status': 'pending'}\n"
     ]
    }
   ],
   "source": [
    "for todo in todos:\n",
    "    print(todo)"
   ]
  },
  {
   "cell_type": "code",
   "execution_count": 25,
   "id": "4eaad82c",
   "metadata": {},
   "outputs": [
    {
     "name": "stdout",
     "output_type": "stream",
     "text": [
      "8\n"
     ]
    }
   ],
   "source": [
    "from langchain_core.tools import tool\n",
    "from langchain_core.messages import HumanMessage\n",
    "\n",
    "@tool\n",
    "def add(a:int, b:int):\n",
    "    \"add a and b: a+b\"\n",
    "    c = a+b\n",
    "    return c\n",
    "from typing import TypedDict\n",
    "class Addition(TypedDict):\n",
    "    sum: int\n",
    "    summary: str\n",
    "\n",
    "from app.config import llm\n",
    "\n",
    "model_with_tools = llm.bind_tools([add]).with_structured_output(Addition)\n",
    "\n",
    "\n",
    "# response = model_with_tools.invoke([HumanMessage(content=\"add 2+3\")])\n",
    "result = add.invoke({\"a\": 4, \"b\": 4})\n",
    "print(result)"
   ]
  },
  {
   "cell_type": "code",
   "execution_count": 4,
   "id": "f670ddf3",
   "metadata": {},
   "outputs": [
    {
     "data": {
      "text/plain": [
       "BrowserSession🅑 7756 🅣 \u001b[91m--\u001b[0m (cdp_url=None, profile=BrowserProfile)"
      ]
     },
     "execution_count": 4,
     "metadata": {},
     "output_type": "execute_result"
    }
   ],
   "source": [
    "from app.sap_config_hub import SapConfigHub\n",
    "\n",
    "config = SapConfigHub()\n",
    "\n",
    "browser_session = await config.get_browser_session()\n",
    "# await browser_session.start()\n",
    "browser_session"
   ]
  },
  {
   "cell_type": "code",
   "execution_count": null,
   "id": "7f6ab602",
   "metadata": {},
   "outputs": [
    {
     "name": "stdout",
     "output_type": "stream",
     "text": [
      "ERROR    [BrowserSession] [LocalBrowserWatchdog] Exception in on_BrowserLaunchEvent: \n",
      "Traceback (most recent call last):\n",
      "  File \"c:\\Users\\tejas.sinroja\\Eerly\\SAP_Config_Hub\\.venv\\Lib\\site-packages\\browser_use\\browser\\watchdogs\\local_browser_watchdog.py\", line 54, in on_BrowserLaunchEvent\n",
      "    process, cdp_url = await self._launch_browser()\n",
      "                       ^^^^^^^^^^^^^^^^^^^^^^^^^^^^\n",
      "  File \"c:\\Users\\tejas.sinroja\\Eerly\\SAP_Config_Hub\\.venv\\Lib\\site-packages\\browser_use\\observability.py\", line 73, in async_wrapper\n",
      "    return await func(*args, **kwargs)\n",
      "           ^^^^^^^^^^^^^^^^^^^^^^^^^^^\n",
      "  File \"c:\\Users\\tejas.sinroja\\Eerly\\SAP_Config_Hub\\.venv\\Lib\\site-packages\\browser_use\\browser\\watchdogs\\local_browser_watchdog.py\", line 144, in _launch_browser\n",
      "    subprocess = await asyncio.create_subprocess_exec(\n",
      "                 ^^^^^^^^^^^^^^^^^^^^^^^^^^^^^^^^^^^^^\n",
      "  File \"C:\\Users\\tejas.sinroja\\AppData\\Roaming\\uv\\python\\cpython-3.12.11-windows-x86_64-none\\Lib\\asyncio\\subprocess.py\", line 224, in create_subprocess_exec\n",
      "    transport, protocol = await loop.subprocess_exec(\n",
      "                          ^^^^^^^^^^^^^^^^^^^^^^^^^^^\n",
      "  File \"C:\\Users\\tejas.sinroja\\AppData\\Roaming\\uv\\python\\cpython-3.12.11-windows-x86_64-none\\Lib\\asyncio\\base_events.py\", line 1756, in subprocess_exec\n",
      "    transport = await self._make_subprocess_transport(\n",
      "                ^^^^^^^^^^^^^^^^^^^^^^^^^^^^^^^^^^^^^^\n",
      "  File \"C:\\Users\\tejas.sinroja\\AppData\\Roaming\\uv\\python\\cpython-3.12.11-windows-x86_64-none\\Lib\\asyncio\\base_events.py\", line 528, in _make_subprocess_transport\n",
      "    raise NotImplementedError\n",
      "NotImplementedError\n",
      "ERROR    [BrowserSession] \u001b[91m🚌 [LocalBrowserWatchdog.on_BrowserLaunchEvent(#60f4)]    ❌ Failed (0.01s): NotImplementedError: \u001b[0m\n",
      "ERROR    [BrowserSession] \u001b[91m🚌 [LocalBrowserWatchdog.on_BrowserLaunchEvent(#60f4)]    ❌ CDP connected but failed to re-create CDP session after error \"NotImplementedError: \" in \u001b[96mon_BrowserLaunchEvent(BrowserLaunchEvent#60f4)\u001b[0m: due to \u001b[91mAssertionError: CDP URL not set - browser may not be configured or launched yet\u001b[0m\n",
      "\n",
      "ERROR    [bubus] ❌ EventBus_ed05c8b3🟢(⏳ 0 | ▶️ 1 | ✅ 1 ➡️ 30 👂) Error in event handler browser_use.browser.watchdog_base.LocalBrowserWatchdog.on_BrowserLaunchEvent(?▶ BrowserLaunchEvent#60f4 ✅) -> \n",
      "\u001b[91mNotImplementedError()\u001b[0m\n",
      "Traceback (most recent call last):\n",
      "  File \"c:\\Users\\tejas.sinroja\\Eerly\\SAP_Config_Hub\\.venv\\Lib\\site-packages\\bubus\\service.py\", line 1128, in execute_handler\n",
      "    result_value: Any = await asyncio.wait_for(handler_task, timeout=event_result.timeout)\n",
      "                        ^^^^^^^^^^^^^^^^^^^^^^^^^^^^^^^^^^^^^^^^^^^^^^^^^^^^^^^^^^^^^^^^^^\n",
      "  File \"C:\\Users\\tejas.sinroja\\AppData\\Roaming\\uv\\python\\cpython-3.12.11-windows-x86_64-none\\Lib\\asyncio\\tasks.py\", line 520, in wait_for\n",
      "    return await fut\n",
      "           ^^^^^^^^^\n",
      "  File \"c:\\Users\\tejas.sinroja\\Eerly\\SAP_Config_Hub\\.venv\\Lib\\site-packages\\browser_use\\browser\\watchdog_base.py\", line 118, in unique_handler\n",
      "    result = await actual_handler(event)\n",
      "             ^^^^^^^^^^^^^^^^^^^^^^^^^^^\n",
      "  File \"c:\\Users\\tejas.sinroja\\Eerly\\SAP_Config_Hub\\.venv\\Lib\\site-packages\\browser_use\\observability.py\", line 73, in async_wrapper\n",
      "    return await func(*args, **kwargs)\n",
      "           ^^^^^^^^^^^^^^^^^^^^^^^^^^^\n",
      "  File \"c:\\Users\\tejas.sinroja\\Eerly\\SAP_Config_Hub\\.venv\\Lib\\site-packages\\browser_use\\browser\\watchdogs\\local_browser_watchdog.py\", line 54, in on_BrowserLaunchEvent\n",
      "    process, cdp_url = await self._launch_browser()\n",
      "                       ^^^^^^^^^^^^^^^^^^^^^^^^^^^^\n",
      "  File \"c:\\Users\\tejas.sinroja\\Eerly\\SAP_Config_Hub\\.venv\\Lib\\site-packages\\browser_use\\observability.py\", line 73, in async_wrapper\n",
      "    return await func(*args, **kwargs)\n",
      "           ^^^^^^^^^^^^^^^^^^^^^^^^^^^\n",
      "  File \"c:\\Users\\tejas.sinroja\\Eerly\\SAP_Config_Hub\\.venv\\Lib\\site-packages\\browser_use\\browser\\watchdogs\\local_browser_watchdog.py\", line 144, in _launch_browser\n",
      "    subprocess = await asyncio.create_subprocess_exec(\n",
      "                 ^^^^^^^^^^^^^^^^^^^^^^^^^^^^^^^^^^^^^\n",
      "  File \"C:\\Users\\tejas.sinroja\\AppData\\Roaming\\uv\\python\\cpython-3.12.11-windows-x86_64-none\\Lib\\asyncio\\subprocess.py\", line 224, in create_subprocess_exec\n",
      "    transport, protocol = await loop.subprocess_exec(\n",
      "                          ^^^^^^^^^^^^^^^^^^^^^^^^^^^\n",
      "  File \"C:\\Users\\tejas.sinroja\\AppData\\Roaming\\uv\\python\\cpython-3.12.11-windows-x86_64-none\\Lib\\asyncio\\base_events.py\", line 1756, in subprocess_exec\n",
      "    transport = await self._make_subprocess_transport(\n",
      "                ^^^^^^^^^^^^^^^^^^^^^^^^^^^^^^^^^^^^^^\n",
      "  File \"C:\\Users\\tejas.sinroja\\AppData\\Roaming\\uv\\python\\cpython-3.12.11-windows-x86_64-none\\Lib\\asyncio\\base_events.py\", line 528, in _make_subprocess_transport\n",
      "    raise NotImplementedError\n",
      "NotImplementedError\n",
      "\n",
      "ERROR    [BrowserSession] \u001b[91m🚌 [BrowserSession.on_BrowserStartEvent(#a0a5)]           ❌ Failed (0.03s): NotImplementedError: \u001b[0m\n",
      "ERROR    [BrowserSession] \u001b[91m🚌 [BrowserSession.on_BrowserStartEvent(#a0a5)]           ❌ CDP connected but failed to re-create CDP session after error \"NotImplementedError: \" in \u001b[96mon_BrowserStartEvent(BrowserStartEvent#a0a5)\u001b[0m: due to \u001b[91mAssertionError: CDP URL not set - browser may not be configured or launched yet\u001b[0m\n",
      "\n",
      "ERROR    [bubus] ❌ EventBus_ed05c8b3🟢(⏳ 1 | ▶️ 0 | ✅ 2 ➡️ 30 👂) Error in event handler browser_use.browser.watchdog_base.BrowserSession.on_BrowserStartEvent(?▶ BrowserStartEvent#a0a5 ✅) -> \n",
      "\u001b[91mNotImplementedError()\u001b[0m\n",
      "Traceback (most recent call last):\n",
      "  File \"c:\\Users\\tejas.sinroja\\Eerly\\SAP_Config_Hub\\.venv\\Lib\\site-packages\\bubus\\service.py\", line 1128, in execute_handler\n",
      "    result_value: Any = await asyncio.wait_for(handler_task, timeout=event_result.timeout)\n",
      "                        ^^^^^^^^^^^^^^^^^^^^^^^^^^^^^^^^^^^^^^^^^^^^^^^^^^^^^^^^^^^^^^^^^^\n",
      "  File \"C:\\Users\\tejas.sinroja\\AppData\\Roaming\\uv\\python\\cpython-3.12.11-windows-x86_64-none\\Lib\\asyncio\\tasks.py\", line 520, in wait_for\n",
      "    return await fut\n",
      "           ^^^^^^^^^\n",
      "  File \"c:\\Users\\tejas.sinroja\\Eerly\\SAP_Config_Hub\\.venv\\Lib\\site-packages\\browser_use\\browser\\watchdog_base.py\", line 118, in unique_handler\n",
      "    result = await actual_handler(event)\n",
      "             ^^^^^^^^^^^^^^^^^^^^^^^^^^^\n",
      "  File \"c:\\Users\\tejas.sinroja\\Eerly\\SAP_Config_Hub\\.venv\\Lib\\site-packages\\browser_use\\observability.py\", line 73, in async_wrapper\n",
      "    return await func(*args, **kwargs)\n",
      "           ^^^^^^^^^^^^^^^^^^^^^^^^^^^\n",
      "  File \"c:\\Users\\tejas.sinroja\\Eerly\\SAP_Config_Hub\\.venv\\Lib\\site-packages\\browser_use\\browser\\session.py\", line 539, in on_BrowserStartEvent\n",
      "    BrowserLaunchResult, await launch_event.event_result(raise_if_none=True, raise_if_any=True)\n",
      "                         ^^^^^^^^^^^^^^^^^^^^^^^^^^^^^^^^^^^^^^^^^^^^^^^^^^^^^^^^^^^^^^^^^^^^^^\n",
      "  File \"c:\\Users\\tejas.sinroja\\Eerly\\SAP_Config_Hub\\.venv\\Lib\\site-packages\\bubus\\models.py\", line 574, in event_result\n",
      "    valid_results = await self.event_results_filtered(\n",
      "                    ^^^^^^^^^^^^^^^^^^^^^^^^^^^^^^^^^^\n",
      "  File \"c:\\Users\\tejas.sinroja\\Eerly\\SAP_Config_Hub\\.venv\\Lib\\site-packages\\bubus\\models.py\", line 516, in event_results_filtered\n",
      "    raise original_error\n",
      "  File \"c:\\Users\\tejas.sinroja\\Eerly\\SAP_Config_Hub\\.venv\\Lib\\site-packages\\bubus\\models.py\", line 490, in event_results_filtered\n",
      "    await event_result\n",
      "  File \"c:\\Users\\tejas.sinroja\\Eerly\\SAP_Config_Hub\\.venv\\Lib\\site-packages\\bubus\\models.py\", line 889, in wait_for_handler_to_complete_and_return_result\n",
      "    raise self.error if isinstance(self.error, BaseException) else Exception(self.error)  # pyright: ignore[reportUnnecessaryIsInstance]\n",
      "    ^^^^^^^^^^^^^^^^^^^^^^^^^^^^^^^^^^^^^^^^^^^^^^^^^^^^^^^^^^^^^^^^^^^^^^^^^^^^^^^^^^^^\n",
      "  File \"c:\\Users\\tejas.sinroja\\Eerly\\SAP_Config_Hub\\.venv\\Lib\\site-packages\\bubus\\service.py\", line 1070, in _execute_handlers\n",
      "    await self.execute_handler(event, handler, timeout=timeout)\n",
      "  File \"c:\\Users\\tejas.sinroja\\Eerly\\SAP_Config_Hub\\.venv\\Lib\\site-packages\\bubus\\service.py\", line 1128, in execute_handler\n",
      "    result_value: Any = await asyncio.wait_for(handler_task, timeout=event_result.timeout)\n",
      "                        ^^^^^^^^^^^^^^^^^^^^^^^^^^^^^^^^^^^^^^^^^^^^^^^^^^^^^^^^^^^^^^^^^^\n",
      "  File \"C:\\Users\\tejas.sinroja\\AppData\\Roaming\\uv\\python\\cpython-3.12.11-windows-x86_64-none\\Lib\\asyncio\\tasks.py\", line 520, in wait_for\n",
      "    return await fut\n",
      "           ^^^^^^^^^\n",
      "  File \"c:\\Users\\tejas.sinroja\\Eerly\\SAP_Config_Hub\\.venv\\Lib\\site-packages\\browser_use\\browser\\watchdog_base.py\", line 118, in unique_handler\n",
      "    result = await actual_handler(event)\n",
      "             ^^^^^^^^^^^^^^^^^^^^^^^^^^^\n",
      "  File \"c:\\Users\\tejas.sinroja\\Eerly\\SAP_Config_Hub\\.venv\\Lib\\site-packages\\browser_use\\observability.py\", line 73, in async_wrapper\n",
      "    return await func(*args, **kwargs)\n",
      "           ^^^^^^^^^^^^^^^^^^^^^^^^^^^\n",
      "  File \"c:\\Users\\tejas.sinroja\\Eerly\\SAP_Config_Hub\\.venv\\Lib\\site-packages\\browser_use\\browser\\watchdogs\\local_browser_watchdog.py\", line 54, in on_BrowserLaunchEvent\n",
      "    process, cdp_url = await self._launch_browser()\n",
      "                       ^^^^^^^^^^^^^^^^^^^^^^^^^^^^\n",
      "  File \"c:\\Users\\tejas.sinroja\\Eerly\\SAP_Config_Hub\\.venv\\Lib\\site-packages\\browser_use\\observability.py\", line 73, in async_wrapper\n",
      "    return await func(*args, **kwargs)\n",
      "           ^^^^^^^^^^^^^^^^^^^^^^^^^^^\n",
      "  File \"c:\\Users\\tejas.sinroja\\Eerly\\SAP_Config_Hub\\.venv\\Lib\\site-packages\\browser_use\\browser\\watchdogs\\local_browser_watchdog.py\", line 144, in _launch_browser\n",
      "    subprocess = await asyncio.create_subprocess_exec(\n",
      "                 ^^^^^^^^^^^^^^^^^^^^^^^^^^^^^^^^^^^^^\n",
      "  File \"C:\\Users\\tejas.sinroja\\AppData\\Roaming\\uv\\python\\cpython-3.12.11-windows-x86_64-none\\Lib\\asyncio\\subprocess.py\", line 224, in create_subprocess_exec\n",
      "    transport, protocol = await loop.subprocess_exec(\n",
      "                          ^^^^^^^^^^^^^^^^^^^^^^^^^^^\n",
      "  File \"C:\\Users\\tejas.sinroja\\AppData\\Roaming\\uv\\python\\cpython-3.12.11-windows-x86_64-none\\Lib\\asyncio\\base_events.py\", line 1756, in subprocess_exec\n",
      "    transport = await self._make_subprocess_transport(\n",
      "                ^^^^^^^^^^^^^^^^^^^^^^^^^^^^^^^^^^^^^^\n",
      "  File \"C:\\Users\\tejas.sinroja\\AppData\\Roaming\\uv\\python\\cpython-3.12.11-windows-x86_64-none\\Lib\\asyncio\\base_events.py\", line 528, in _make_subprocess_transport\n",
      "    raise NotImplementedError\n",
      "NotImplementedError\n",
      "\n"
     ]
    },
    {
     "ename": "NotImplementedError",
     "evalue": "",
     "output_type": "error",
     "traceback": [
      "\u001b[31m---------------------------------------------------------------------------\u001b[39m",
      "\u001b[31mNotImplementedError\u001b[39m                       Traceback (most recent call last)",
      "\u001b[36mCell\u001b[39m\u001b[36m \u001b[39m\u001b[32mIn[5]\u001b[39m\u001b[32m, line 1\u001b[39m\n\u001b[32m----> \u001b[39m\u001b[32m1\u001b[39m \u001b[38;5;28;01mawait\u001b[39;00m browser_session.start()\n",
      "\u001b[36mFile \u001b[39m\u001b[32mc:\\Users\\tejas.sinroja\\Eerly\\SAP_Config_Hub\\.venv\\Lib\\site-packages\\browser_use\\observability.py:73\u001b[39m, in \u001b[36m_create_no_op_decorator.<locals>.decorator.<locals>.async_wrapper\u001b[39m\u001b[34m(*args, **kwargs)\u001b[39m\n\u001b[32m     71\u001b[39m \u001b[38;5;129m@wraps\u001b[39m(func)\n\u001b[32m     72\u001b[39m \u001b[38;5;28;01masync\u001b[39;00m \u001b[38;5;28;01mdef\u001b[39;00m\u001b[38;5;250m \u001b[39m\u001b[34masync_wrapper\u001b[39m(*args, **kwargs):\n\u001b[32m---> \u001b[39m\u001b[32m73\u001b[39m \t\u001b[38;5;28;01mreturn\u001b[39;00m \u001b[38;5;28;01mawait\u001b[39;00m func(*args, **kwargs)\n",
      "\u001b[36mFile \u001b[39m\u001b[32mc:\\Users\\tejas.sinroja\\Eerly\\SAP_Config_Hub\\.venv\\Lib\\site-packages\\browser_use\\browser\\session.py:462\u001b[39m, in \u001b[36mBrowserSession.start\u001b[39m\u001b[34m(self)\u001b[39m\n\u001b[32m    460\u001b[39m \u001b[38;5;28;01mawait\u001b[39;00m start_event\n\u001b[32m    461\u001b[39m \u001b[38;5;66;03m# Ensure any exceptions from the event handler are propagated\u001b[39;00m\n\u001b[32m--> \u001b[39m\u001b[32m462\u001b[39m \u001b[38;5;28;01mawait\u001b[39;00m start_event.event_result(raise_if_any=\u001b[38;5;28;01mTrue\u001b[39;00m, raise_if_none=\u001b[38;5;28;01mFalse\u001b[39;00m)\n",
      "\u001b[36mFile \u001b[39m\u001b[32mc:\\Users\\tejas.sinroja\\Eerly\\SAP_Config_Hub\\.venv\\Lib\\site-packages\\bubus\\models.py:574\u001b[39m, in \u001b[36mBaseEvent.event_result\u001b[39m\u001b[34m(self, timeout, include, raise_if_any, raise_if_none)\u001b[39m\n\u001b[32m    566\u001b[39m \u001b[38;5;28;01masync\u001b[39;00m \u001b[38;5;28;01mdef\u001b[39;00m\u001b[38;5;250m \u001b[39m\u001b[34mevent_result\u001b[39m(\n\u001b[32m    567\u001b[39m     \u001b[38;5;28mself\u001b[39m,\n\u001b[32m    568\u001b[39m     timeout: \u001b[38;5;28mfloat\u001b[39m | \u001b[38;5;28;01mNone\u001b[39;00m = \u001b[38;5;28;01mNone\u001b[39;00m,\n\u001b[32m   (...)\u001b[39m\u001b[32m    571\u001b[39m     raise_if_none: \u001b[38;5;28mbool\u001b[39m = \u001b[38;5;28;01mTrue\u001b[39;00m,\n\u001b[32m    572\u001b[39m ) -> T_EventResultType | \u001b[38;5;28;01mNone\u001b[39;00m:\n\u001b[32m    573\u001b[39m \u001b[38;5;250m    \u001b[39m\u001b[33;03m\"\"\"Get the first non-None result from the event handlers\"\"\"\u001b[39;00m\n\u001b[32m--> \u001b[39m\u001b[32m574\u001b[39m     valid_results = \u001b[38;5;28;01mawait\u001b[39;00m \u001b[38;5;28mself\u001b[39m.event_results_filtered(\n\u001b[32m    575\u001b[39m         timeout=timeout, include=include, raise_if_any=raise_if_any, raise_if_none=raise_if_none\n\u001b[32m    576\u001b[39m     )\n\u001b[32m    577\u001b[39m     results = \u001b[38;5;28mlist\u001b[39m(valid_results.values())\n\u001b[32m    578\u001b[39m     \u001b[38;5;28;01mreturn\u001b[39;00m cast(T_EventResultType | \u001b[38;5;28;01mNone\u001b[39;00m, results[\u001b[32m0\u001b[39m].result) \u001b[38;5;28;01mif\u001b[39;00m results \u001b[38;5;28;01melse\u001b[39;00m \u001b[38;5;28;01mNone\u001b[39;00m\n",
      "\u001b[36mFile \u001b[39m\u001b[32mc:\\Users\\tejas.sinroja\\Eerly\\SAP_Config_Hub\\.venv\\Lib\\site-packages\\bubus\\models.py:516\u001b[39m, in \u001b[36mBaseEvent.event_results_filtered\u001b[39m\u001b[34m(self, timeout, include, raise_if_any, raise_if_none)\u001b[39m\n\u001b[32m    514\u001b[39m \u001b[38;5;66;03m# Re-raise the original exception to preserve its type and structured data\u001b[39;00m\n\u001b[32m    515\u001b[39m \u001b[38;5;28;01mif\u001b[39;00m \u001b[38;5;28misinstance\u001b[39m(original_error, \u001b[38;5;167;01mBaseException\u001b[39;00m):\n\u001b[32m--> \u001b[39m\u001b[32m516\u001b[39m     \u001b[38;5;28;01mraise\u001b[39;00m original_error\n\u001b[32m    517\u001b[39m \u001b[38;5;28;01melse\u001b[39;00m:\n\u001b[32m    518\u001b[39m     \u001b[38;5;66;03m# Fallback for non-exception errors (shouldn't happen in practice)\u001b[39;00m\n\u001b[32m    519\u001b[39m     \u001b[38;5;28;01mraise\u001b[39;00m \u001b[38;5;167;01mException\u001b[39;00m(\u001b[38;5;28mstr\u001b[39m(original_error))\n",
      "\u001b[36mFile \u001b[39m\u001b[32mc:\\Users\\tejas.sinroja\\Eerly\\SAP_Config_Hub\\.venv\\Lib\\site-packages\\bubus\\models.py:490\u001b[39m, in \u001b[36mBaseEvent.event_results_filtered\u001b[39m\u001b[34m(self, timeout, include, raise_if_any, raise_if_none)\u001b[39m\n\u001b[32m    488\u001b[39m \u001b[38;5;28;01mfor\u001b[39;00m event_result \u001b[38;5;129;01min\u001b[39;00m \u001b[38;5;28mself\u001b[39m.event_results.values():\n\u001b[32m    489\u001b[39m     \u001b[38;5;28;01mtry\u001b[39;00m:\n\u001b[32m--> \u001b[39m\u001b[32m490\u001b[39m         \u001b[38;5;28;01mawait\u001b[39;00m event_result\n\u001b[32m    491\u001b[39m     \u001b[38;5;28;01mexcept\u001b[39;00m \u001b[38;5;167;01mException\u001b[39;00m:\n\u001b[32m    492\u001b[39m         \u001b[38;5;66;03m# Ignore exceptions here - we'll handle them based on raise_if_any below\u001b[39;00m\n\u001b[32m    493\u001b[39m         \u001b[38;5;28;01mpass\u001b[39;00m\n",
      "\u001b[36mFile \u001b[39m\u001b[32mc:\\Users\\tejas.sinroja\\Eerly\\SAP_Config_Hub\\.venv\\Lib\\site-packages\\bubus\\models.py:889\u001b[39m, in \u001b[36mEventResult.__await__.<locals>.wait_for_handler_to_complete_and_return_result\u001b[39m\u001b[34m()\u001b[39m\n\u001b[32m    884\u001b[39m     \u001b[38;5;28;01mraise\u001b[39;00m \u001b[38;5;167;01mTimeoutError\u001b[39;00m(\n\u001b[32m    885\u001b[39m         \u001b[33mf\u001b[39m\u001b[33m'\u001b[39m\u001b[33mEvent handler \u001b[39m\u001b[38;5;132;01m{\u001b[39;00m\u001b[38;5;28mself\u001b[39m.eventbus_name\u001b[38;5;132;01m}\u001b[39;00m\u001b[33m.\u001b[39m\u001b[38;5;132;01m{\u001b[39;00m\u001b[38;5;28mself\u001b[39m.handler_name\u001b[38;5;132;01m}\u001b[39;00m\u001b[33m(#\u001b[39m\u001b[38;5;132;01m{\u001b[39;00m\u001b[38;5;28mself\u001b[39m.event_id[-\u001b[32m4\u001b[39m:]\u001b[38;5;132;01m}\u001b[39;00m\u001b[33m) timed out after \u001b[39m\u001b[38;5;132;01m{\u001b[39;00m\u001b[38;5;28mself\u001b[39m.timeout\u001b[38;5;132;01m}\u001b[39;00m\u001b[33ms\u001b[39m\u001b[33m'\u001b[39m\n\u001b[32m    886\u001b[39m     )\n\u001b[32m    888\u001b[39m \u001b[38;5;28;01mif\u001b[39;00m \u001b[38;5;28mself\u001b[39m.status == \u001b[33m'\u001b[39m\u001b[33merror\u001b[39m\u001b[33m'\u001b[39m \u001b[38;5;129;01mand\u001b[39;00m \u001b[38;5;28mself\u001b[39m.error:\n\u001b[32m--> \u001b[39m\u001b[32m889\u001b[39m     \u001b[38;5;28;01mraise\u001b[39;00m \u001b[38;5;28mself\u001b[39m.error \u001b[38;5;28;01mif\u001b[39;00m \u001b[38;5;28misinstance\u001b[39m(\u001b[38;5;28mself\u001b[39m.error, \u001b[38;5;167;01mBaseException\u001b[39;00m) \u001b[38;5;28;01melse\u001b[39;00m \u001b[38;5;167;01mException\u001b[39;00m(\u001b[38;5;28mself\u001b[39m.error)  \u001b[38;5;66;03m# pyright: ignore[reportUnnecessaryIsInstance]\u001b[39;00m\n\u001b[32m    891\u001b[39m \u001b[38;5;28;01mreturn\u001b[39;00m \u001b[38;5;28mself\u001b[39m.result\n",
      "\u001b[36mFile \u001b[39m\u001b[32mc:\\Users\\tejas.sinroja\\Eerly\\SAP_Config_Hub\\.venv\\Lib\\site-packages\\bubus\\service.py:1070\u001b[39m, in \u001b[36mEventBus._execute_handlers\u001b[39m\u001b[34m(self, event, handlers, timeout)\u001b[39m\n\u001b[32m   1068\u001b[39m \u001b[38;5;28;01mfor\u001b[39;00m handler_id, handler \u001b[38;5;129;01min\u001b[39;00m applicable_handlers.items():\n\u001b[32m   1069\u001b[39m     \u001b[38;5;28;01mtry\u001b[39;00m:\n\u001b[32m-> \u001b[39m\u001b[32m1070\u001b[39m         \u001b[38;5;28;01mawait\u001b[39;00m \u001b[38;5;28mself\u001b[39m.execute_handler(event, handler, timeout=timeout)\n\u001b[32m   1071\u001b[39m     \u001b[38;5;28;01mexcept\u001b[39;00m \u001b[38;5;167;01mException\u001b[39;00m \u001b[38;5;28;01mas\u001b[39;00m e:\n\u001b[32m   1072\u001b[39m         \u001b[38;5;66;03m# Error already logged and recorded in execute_handler\u001b[39;00m\n\u001b[32m   1073\u001b[39m         logger.debug(\n\u001b[32m   1074\u001b[39m             \u001b[33mf\u001b[39m\u001b[33m'\u001b[39m\u001b[33m❌ \u001b[39m\u001b[38;5;132;01m{\u001b[39;00m\u001b[38;5;28mself\u001b[39m\u001b[38;5;132;01m}\u001b[39;00m\u001b[33m Handler \u001b[39m\u001b[38;5;132;01m{\u001b[39;00mget_handler_name(handler)\u001b[38;5;132;01m}\u001b[39;00m\u001b[33m#\u001b[39m\u001b[38;5;132;01m{\u001b[39;00m\u001b[38;5;28mstr\u001b[39m(\u001b[38;5;28mid\u001b[39m(handler))[-\u001b[32m4\u001b[39m:]\u001b[38;5;132;01m}\u001b[39;00m\u001b[33m(\u001b[39m\u001b[38;5;132;01m{\u001b[39;00mevent\u001b[38;5;132;01m}\u001b[39;00m\u001b[33m) failed with \u001b[39m\u001b[38;5;132;01m{\u001b[39;00m\u001b[38;5;28mtype\u001b[39m(e).\u001b[34m__name__\u001b[39m\u001b[38;5;132;01m}\u001b[39;00m\u001b[33m: \u001b[39m\u001b[38;5;132;01m{\u001b[39;00me\u001b[38;5;132;01m}\u001b[39;00m\u001b[33m'\u001b[39m\n\u001b[32m   1075\u001b[39m         )\n",
      "\u001b[36mFile \u001b[39m\u001b[32mc:\\Users\\tejas.sinroja\\Eerly\\SAP_Config_Hub\\.venv\\Lib\\site-packages\\bubus\\service.py:1128\u001b[39m, in \u001b[36mEventBus.execute_handler\u001b[39m\u001b[34m(self, event, handler, timeout)\u001b[39m\n\u001b[32m   1126\u001b[39m     handler_task = asyncio.create_task(handler(event))  \u001b[38;5;66;03m# type: ignore\u001b[39;00m\n\u001b[32m   1127\u001b[39m     \u001b[38;5;66;03m# This allows us to process child events when the handler awaits them\u001b[39;00m\n\u001b[32m-> \u001b[39m\u001b[32m1128\u001b[39m     result_value: Any = \u001b[38;5;28;01mawait\u001b[39;00m asyncio.wait_for(handler_task, timeout=event_result.timeout)\n\u001b[32m   1129\u001b[39m \u001b[38;5;28;01melif\u001b[39;00m inspect.isfunction(handler) \u001b[38;5;129;01mor\u001b[39;00m inspect.ismethod(handler):\n\u001b[32m   1130\u001b[39m     \u001b[38;5;66;03m# If handler function is sync function, run it directly in the main thread\u001b[39;00m\n\u001b[32m   1131\u001b[39m     \u001b[38;5;66;03m# This blocks but ensures we have access to the event loop, dont run it in a subthread!\u001b[39;00m\n\u001b[32m   1132\u001b[39m     result_value: Any = handler(event)\n",
      "\u001b[36mFile \u001b[39m\u001b[32m~\\AppData\\Roaming\\uv\\python\\cpython-3.12.11-windows-x86_64-none\\Lib\\asyncio\\tasks.py:520\u001b[39m, in \u001b[36mwait_for\u001b[39m\u001b[34m(fut, timeout)\u001b[39m\n\u001b[32m    517\u001b[39m         \u001b[38;5;28;01mraise\u001b[39;00m \u001b[38;5;167;01mTimeoutError\u001b[39;00m \u001b[38;5;28;01mfrom\u001b[39;00m\u001b[38;5;250m \u001b[39m\u001b[34;01mexc\u001b[39;00m\n\u001b[32m    519\u001b[39m \u001b[38;5;28;01masync\u001b[39;00m \u001b[38;5;28;01mwith\u001b[39;00m timeouts.timeout(timeout):\n\u001b[32m--> \u001b[39m\u001b[32m520\u001b[39m     \u001b[38;5;28;01mreturn\u001b[39;00m \u001b[38;5;28;01mawait\u001b[39;00m fut\n",
      "\u001b[36mFile \u001b[39m\u001b[32mc:\\Users\\tejas.sinroja\\Eerly\\SAP_Config_Hub\\.venv\\Lib\\site-packages\\browser_use\\browser\\watchdog_base.py:118\u001b[39m, in \u001b[36mBaseWatchdog.attach_handler_to_session.<locals>.make_unique_handler.<locals>.unique_handler\u001b[39m\u001b[34m(event)\u001b[39m\n\u001b[32m    112\u001b[39m browser_session.logger.debug(\n\u001b[32m    113\u001b[39m \t\u001b[33mf\u001b[39m\u001b[33m'\u001b[39m\u001b[38;5;132;01m{\u001b[39;00mcyan\u001b[38;5;132;01m}\u001b[39;00m\u001b[33m🚌 \u001b[39m\u001b[38;5;132;01m{\u001b[39;00mwatchdog_and_handler_str\u001b[38;5;132;01m}\u001b[39;00m\u001b[33m ⏳ Starting...      \u001b[39m\u001b[38;5;132;01m{\u001b[39;00mreset\u001b[38;5;132;01m}\u001b[39;00m\u001b[33m \u001b[39m\u001b[38;5;132;01m{\u001b[39;00mparent\u001b[38;5;132;01m}\u001b[39;00m\u001b[33m \u001b[39m\u001b[38;5;132;01m{\u001b[39;00mgrandparent\u001b[38;5;132;01m}\u001b[39;00m\u001b[33m'\u001b[39m\n\u001b[32m    114\u001b[39m )\n\u001b[32m    116\u001b[39m \u001b[38;5;28;01mtry\u001b[39;00m:\n\u001b[32m    117\u001b[39m \t\u001b[38;5;66;03m# **EXECUTE THE EVENT HANDLER FUNCTION**\u001b[39;00m\n\u001b[32m--> \u001b[39m\u001b[32m118\u001b[39m \tresult = \u001b[38;5;28;01mawait\u001b[39;00m actual_handler(event)\n\u001b[32m    120\u001b[39m \t\u001b[38;5;28;01mif\u001b[39;00m \u001b[38;5;28misinstance\u001b[39m(result, \u001b[38;5;167;01mException\u001b[39;00m):\n\u001b[32m    121\u001b[39m \t\t\u001b[38;5;28;01mraise\u001b[39;00m result\n",
      "\u001b[36mFile \u001b[39m\u001b[32mc:\\Users\\tejas.sinroja\\Eerly\\SAP_Config_Hub\\.venv\\Lib\\site-packages\\browser_use\\observability.py:73\u001b[39m, in \u001b[36m_create_no_op_decorator.<locals>.decorator.<locals>.async_wrapper\u001b[39m\u001b[34m(*args, **kwargs)\u001b[39m\n\u001b[32m     71\u001b[39m \u001b[38;5;129m@wraps\u001b[39m(func)\n\u001b[32m     72\u001b[39m \u001b[38;5;28;01masync\u001b[39;00m \u001b[38;5;28;01mdef\u001b[39;00m\u001b[38;5;250m \u001b[39m\u001b[34masync_wrapper\u001b[39m(*args, **kwargs):\n\u001b[32m---> \u001b[39m\u001b[32m73\u001b[39m \t\u001b[38;5;28;01mreturn\u001b[39;00m \u001b[38;5;28;01mawait\u001b[39;00m func(*args, **kwargs)\n",
      "\u001b[36mFile \u001b[39m\u001b[32mc:\\Users\\tejas.sinroja\\Eerly\\SAP_Config_Hub\\.venv\\Lib\\site-packages\\browser_use\\browser\\session.py:539\u001b[39m, in \u001b[36mBrowserSession.on_BrowserStartEvent\u001b[39m\u001b[34m(self, event)\u001b[39m\n\u001b[32m    535\u001b[39m \t\u001b[38;5;28;01mawait\u001b[39;00m launch_event\n\u001b[32m    537\u001b[39m \t\u001b[38;5;66;03m# Get the CDP URL from LocalBrowserWatchdog handler result\u001b[39;00m\n\u001b[32m    538\u001b[39m \tlaunch_result: BrowserLaunchResult = cast(\n\u001b[32m--> \u001b[39m\u001b[32m539\u001b[39m \t\tBrowserLaunchResult, \u001b[38;5;28;01mawait\u001b[39;00m launch_event.event_result(raise_if_none=\u001b[38;5;28;01mTrue\u001b[39;00m, raise_if_any=\u001b[38;5;28;01mTrue\u001b[39;00m)\n\u001b[32m    540\u001b[39m \t)\n\u001b[32m    541\u001b[39m \t\u001b[38;5;28mself\u001b[39m.browser_profile.cdp_url = launch_result.cdp_url\n\u001b[32m    542\u001b[39m \u001b[38;5;28;01melse\u001b[39;00m:\n",
      "\u001b[36mFile \u001b[39m\u001b[32mc:\\Users\\tejas.sinroja\\Eerly\\SAP_Config_Hub\\.venv\\Lib\\site-packages\\bubus\\models.py:574\u001b[39m, in \u001b[36mBaseEvent.event_result\u001b[39m\u001b[34m(self, timeout, include, raise_if_any, raise_if_none)\u001b[39m\n\u001b[32m    566\u001b[39m \u001b[38;5;28;01masync\u001b[39;00m \u001b[38;5;28;01mdef\u001b[39;00m\u001b[38;5;250m \u001b[39m\u001b[34mevent_result\u001b[39m(\n\u001b[32m    567\u001b[39m     \u001b[38;5;28mself\u001b[39m,\n\u001b[32m    568\u001b[39m     timeout: \u001b[38;5;28mfloat\u001b[39m | \u001b[38;5;28;01mNone\u001b[39;00m = \u001b[38;5;28;01mNone\u001b[39;00m,\n\u001b[32m   (...)\u001b[39m\u001b[32m    571\u001b[39m     raise_if_none: \u001b[38;5;28mbool\u001b[39m = \u001b[38;5;28;01mTrue\u001b[39;00m,\n\u001b[32m    572\u001b[39m ) -> T_EventResultType | \u001b[38;5;28;01mNone\u001b[39;00m:\n\u001b[32m    573\u001b[39m \u001b[38;5;250m    \u001b[39m\u001b[33;03m\"\"\"Get the first non-None result from the event handlers\"\"\"\u001b[39;00m\n\u001b[32m--> \u001b[39m\u001b[32m574\u001b[39m     valid_results = \u001b[38;5;28;01mawait\u001b[39;00m \u001b[38;5;28mself\u001b[39m.event_results_filtered(\n\u001b[32m    575\u001b[39m         timeout=timeout, include=include, raise_if_any=raise_if_any, raise_if_none=raise_if_none\n\u001b[32m    576\u001b[39m     )\n\u001b[32m    577\u001b[39m     results = \u001b[38;5;28mlist\u001b[39m(valid_results.values())\n\u001b[32m    578\u001b[39m     \u001b[38;5;28;01mreturn\u001b[39;00m cast(T_EventResultType | \u001b[38;5;28;01mNone\u001b[39;00m, results[\u001b[32m0\u001b[39m].result) \u001b[38;5;28;01mif\u001b[39;00m results \u001b[38;5;28;01melse\u001b[39;00m \u001b[38;5;28;01mNone\u001b[39;00m\n",
      "\u001b[36mFile \u001b[39m\u001b[32mc:\\Users\\tejas.sinroja\\Eerly\\SAP_Config_Hub\\.venv\\Lib\\site-packages\\bubus\\models.py:516\u001b[39m, in \u001b[36mBaseEvent.event_results_filtered\u001b[39m\u001b[34m(self, timeout, include, raise_if_any, raise_if_none)\u001b[39m\n\u001b[32m    514\u001b[39m \u001b[38;5;66;03m# Re-raise the original exception to preserve its type and structured data\u001b[39;00m\n\u001b[32m    515\u001b[39m \u001b[38;5;28;01mif\u001b[39;00m \u001b[38;5;28misinstance\u001b[39m(original_error, \u001b[38;5;167;01mBaseException\u001b[39;00m):\n\u001b[32m--> \u001b[39m\u001b[32m516\u001b[39m     \u001b[38;5;28;01mraise\u001b[39;00m original_error\n\u001b[32m    517\u001b[39m \u001b[38;5;28;01melse\u001b[39;00m:\n\u001b[32m    518\u001b[39m     \u001b[38;5;66;03m# Fallback for non-exception errors (shouldn't happen in practice)\u001b[39;00m\n\u001b[32m    519\u001b[39m     \u001b[38;5;28;01mraise\u001b[39;00m \u001b[38;5;167;01mException\u001b[39;00m(\u001b[38;5;28mstr\u001b[39m(original_error))\n",
      "\u001b[36mFile \u001b[39m\u001b[32mc:\\Users\\tejas.sinroja\\Eerly\\SAP_Config_Hub\\.venv\\Lib\\site-packages\\bubus\\models.py:490\u001b[39m, in \u001b[36mBaseEvent.event_results_filtered\u001b[39m\u001b[34m(self, timeout, include, raise_if_any, raise_if_none)\u001b[39m\n\u001b[32m    488\u001b[39m \u001b[38;5;28;01mfor\u001b[39;00m event_result \u001b[38;5;129;01min\u001b[39;00m \u001b[38;5;28mself\u001b[39m.event_results.values():\n\u001b[32m    489\u001b[39m     \u001b[38;5;28;01mtry\u001b[39;00m:\n\u001b[32m--> \u001b[39m\u001b[32m490\u001b[39m         \u001b[38;5;28;01mawait\u001b[39;00m event_result\n\u001b[32m    491\u001b[39m     \u001b[38;5;28;01mexcept\u001b[39;00m \u001b[38;5;167;01mException\u001b[39;00m:\n\u001b[32m    492\u001b[39m         \u001b[38;5;66;03m# Ignore exceptions here - we'll handle them based on raise_if_any below\u001b[39;00m\n\u001b[32m    493\u001b[39m         \u001b[38;5;28;01mpass\u001b[39;00m\n",
      "\u001b[36mFile \u001b[39m\u001b[32mc:\\Users\\tejas.sinroja\\Eerly\\SAP_Config_Hub\\.venv\\Lib\\site-packages\\bubus\\models.py:889\u001b[39m, in \u001b[36mEventResult.__await__.<locals>.wait_for_handler_to_complete_and_return_result\u001b[39m\u001b[34m()\u001b[39m\n\u001b[32m    884\u001b[39m     \u001b[38;5;28;01mraise\u001b[39;00m \u001b[38;5;167;01mTimeoutError\u001b[39;00m(\n\u001b[32m    885\u001b[39m         \u001b[33mf\u001b[39m\u001b[33m'\u001b[39m\u001b[33mEvent handler \u001b[39m\u001b[38;5;132;01m{\u001b[39;00m\u001b[38;5;28mself\u001b[39m.eventbus_name\u001b[38;5;132;01m}\u001b[39;00m\u001b[33m.\u001b[39m\u001b[38;5;132;01m{\u001b[39;00m\u001b[38;5;28mself\u001b[39m.handler_name\u001b[38;5;132;01m}\u001b[39;00m\u001b[33m(#\u001b[39m\u001b[38;5;132;01m{\u001b[39;00m\u001b[38;5;28mself\u001b[39m.event_id[-\u001b[32m4\u001b[39m:]\u001b[38;5;132;01m}\u001b[39;00m\u001b[33m) timed out after \u001b[39m\u001b[38;5;132;01m{\u001b[39;00m\u001b[38;5;28mself\u001b[39m.timeout\u001b[38;5;132;01m}\u001b[39;00m\u001b[33ms\u001b[39m\u001b[33m'\u001b[39m\n\u001b[32m    886\u001b[39m     )\n\u001b[32m    888\u001b[39m \u001b[38;5;28;01mif\u001b[39;00m \u001b[38;5;28mself\u001b[39m.status == \u001b[33m'\u001b[39m\u001b[33merror\u001b[39m\u001b[33m'\u001b[39m \u001b[38;5;129;01mand\u001b[39;00m \u001b[38;5;28mself\u001b[39m.error:\n\u001b[32m--> \u001b[39m\u001b[32m889\u001b[39m     \u001b[38;5;28;01mraise\u001b[39;00m \u001b[38;5;28mself\u001b[39m.error \u001b[38;5;28;01mif\u001b[39;00m \u001b[38;5;28misinstance\u001b[39m(\u001b[38;5;28mself\u001b[39m.error, \u001b[38;5;167;01mBaseException\u001b[39;00m) \u001b[38;5;28;01melse\u001b[39;00m \u001b[38;5;167;01mException\u001b[39;00m(\u001b[38;5;28mself\u001b[39m.error)  \u001b[38;5;66;03m# pyright: ignore[reportUnnecessaryIsInstance]\u001b[39;00m\n\u001b[32m    891\u001b[39m \u001b[38;5;28;01mreturn\u001b[39;00m \u001b[38;5;28mself\u001b[39m.result\n",
      "\u001b[36mFile \u001b[39m\u001b[32mc:\\Users\\tejas.sinroja\\Eerly\\SAP_Config_Hub\\.venv\\Lib\\site-packages\\bubus\\service.py:1070\u001b[39m, in \u001b[36mEventBus._execute_handlers\u001b[39m\u001b[34m(self, event, handlers, timeout)\u001b[39m\n\u001b[32m   1068\u001b[39m \u001b[38;5;28;01mfor\u001b[39;00m handler_id, handler \u001b[38;5;129;01min\u001b[39;00m applicable_handlers.items():\n\u001b[32m   1069\u001b[39m     \u001b[38;5;28;01mtry\u001b[39;00m:\n\u001b[32m-> \u001b[39m\u001b[32m1070\u001b[39m         \u001b[38;5;28;01mawait\u001b[39;00m \u001b[38;5;28mself\u001b[39m.execute_handler(event, handler, timeout=timeout)\n\u001b[32m   1071\u001b[39m     \u001b[38;5;28;01mexcept\u001b[39;00m \u001b[38;5;167;01mException\u001b[39;00m \u001b[38;5;28;01mas\u001b[39;00m e:\n\u001b[32m   1072\u001b[39m         \u001b[38;5;66;03m# Error already logged and recorded in execute_handler\u001b[39;00m\n\u001b[32m   1073\u001b[39m         logger.debug(\n\u001b[32m   1074\u001b[39m             \u001b[33mf\u001b[39m\u001b[33m'\u001b[39m\u001b[33m❌ \u001b[39m\u001b[38;5;132;01m{\u001b[39;00m\u001b[38;5;28mself\u001b[39m\u001b[38;5;132;01m}\u001b[39;00m\u001b[33m Handler \u001b[39m\u001b[38;5;132;01m{\u001b[39;00mget_handler_name(handler)\u001b[38;5;132;01m}\u001b[39;00m\u001b[33m#\u001b[39m\u001b[38;5;132;01m{\u001b[39;00m\u001b[38;5;28mstr\u001b[39m(\u001b[38;5;28mid\u001b[39m(handler))[-\u001b[32m4\u001b[39m:]\u001b[38;5;132;01m}\u001b[39;00m\u001b[33m(\u001b[39m\u001b[38;5;132;01m{\u001b[39;00mevent\u001b[38;5;132;01m}\u001b[39;00m\u001b[33m) failed with \u001b[39m\u001b[38;5;132;01m{\u001b[39;00m\u001b[38;5;28mtype\u001b[39m(e).\u001b[34m__name__\u001b[39m\u001b[38;5;132;01m}\u001b[39;00m\u001b[33m: \u001b[39m\u001b[38;5;132;01m{\u001b[39;00me\u001b[38;5;132;01m}\u001b[39;00m\u001b[33m'\u001b[39m\n\u001b[32m   1075\u001b[39m         )\n",
      "\u001b[36mFile \u001b[39m\u001b[32mc:\\Users\\tejas.sinroja\\Eerly\\SAP_Config_Hub\\.venv\\Lib\\site-packages\\bubus\\service.py:1128\u001b[39m, in \u001b[36mEventBus.execute_handler\u001b[39m\u001b[34m(self, event, handler, timeout)\u001b[39m\n\u001b[32m   1126\u001b[39m     handler_task = asyncio.create_task(handler(event))  \u001b[38;5;66;03m# type: ignore\u001b[39;00m\n\u001b[32m   1127\u001b[39m     \u001b[38;5;66;03m# This allows us to process child events when the handler awaits them\u001b[39;00m\n\u001b[32m-> \u001b[39m\u001b[32m1128\u001b[39m     result_value: Any = \u001b[38;5;28;01mawait\u001b[39;00m asyncio.wait_for(handler_task, timeout=event_result.timeout)\n\u001b[32m   1129\u001b[39m \u001b[38;5;28;01melif\u001b[39;00m inspect.isfunction(handler) \u001b[38;5;129;01mor\u001b[39;00m inspect.ismethod(handler):\n\u001b[32m   1130\u001b[39m     \u001b[38;5;66;03m# If handler function is sync function, run it directly in the main thread\u001b[39;00m\n\u001b[32m   1131\u001b[39m     \u001b[38;5;66;03m# This blocks but ensures we have access to the event loop, dont run it in a subthread!\u001b[39;00m\n\u001b[32m   1132\u001b[39m     result_value: Any = handler(event)\n",
      "\u001b[36mFile \u001b[39m\u001b[32m~\\AppData\\Roaming\\uv\\python\\cpython-3.12.11-windows-x86_64-none\\Lib\\asyncio\\tasks.py:520\u001b[39m, in \u001b[36mwait_for\u001b[39m\u001b[34m(fut, timeout)\u001b[39m\n\u001b[32m    517\u001b[39m         \u001b[38;5;28;01mraise\u001b[39;00m \u001b[38;5;167;01mTimeoutError\u001b[39;00m \u001b[38;5;28;01mfrom\u001b[39;00m\u001b[38;5;250m \u001b[39m\u001b[34;01mexc\u001b[39;00m\n\u001b[32m    519\u001b[39m \u001b[38;5;28;01masync\u001b[39;00m \u001b[38;5;28;01mwith\u001b[39;00m timeouts.timeout(timeout):\n\u001b[32m--> \u001b[39m\u001b[32m520\u001b[39m     \u001b[38;5;28;01mreturn\u001b[39;00m \u001b[38;5;28;01mawait\u001b[39;00m fut\n",
      "\u001b[36mFile \u001b[39m\u001b[32mc:\\Users\\tejas.sinroja\\Eerly\\SAP_Config_Hub\\.venv\\Lib\\site-packages\\browser_use\\browser\\watchdog_base.py:118\u001b[39m, in \u001b[36mBaseWatchdog.attach_handler_to_session.<locals>.make_unique_handler.<locals>.unique_handler\u001b[39m\u001b[34m(event)\u001b[39m\n\u001b[32m    112\u001b[39m browser_session.logger.debug(\n\u001b[32m    113\u001b[39m \t\u001b[33mf\u001b[39m\u001b[33m'\u001b[39m\u001b[38;5;132;01m{\u001b[39;00mcyan\u001b[38;5;132;01m}\u001b[39;00m\u001b[33m🚌 \u001b[39m\u001b[38;5;132;01m{\u001b[39;00mwatchdog_and_handler_str\u001b[38;5;132;01m}\u001b[39;00m\u001b[33m ⏳ Starting...      \u001b[39m\u001b[38;5;132;01m{\u001b[39;00mreset\u001b[38;5;132;01m}\u001b[39;00m\u001b[33m \u001b[39m\u001b[38;5;132;01m{\u001b[39;00mparent\u001b[38;5;132;01m}\u001b[39;00m\u001b[33m \u001b[39m\u001b[38;5;132;01m{\u001b[39;00mgrandparent\u001b[38;5;132;01m}\u001b[39;00m\u001b[33m'\u001b[39m\n\u001b[32m    114\u001b[39m )\n\u001b[32m    116\u001b[39m \u001b[38;5;28;01mtry\u001b[39;00m:\n\u001b[32m    117\u001b[39m \t\u001b[38;5;66;03m# **EXECUTE THE EVENT HANDLER FUNCTION**\u001b[39;00m\n\u001b[32m--> \u001b[39m\u001b[32m118\u001b[39m \tresult = \u001b[38;5;28;01mawait\u001b[39;00m actual_handler(event)\n\u001b[32m    120\u001b[39m \t\u001b[38;5;28;01mif\u001b[39;00m \u001b[38;5;28misinstance\u001b[39m(result, \u001b[38;5;167;01mException\u001b[39;00m):\n\u001b[32m    121\u001b[39m \t\t\u001b[38;5;28;01mraise\u001b[39;00m result\n",
      "\u001b[36mFile \u001b[39m\u001b[32mc:\\Users\\tejas.sinroja\\Eerly\\SAP_Config_Hub\\.venv\\Lib\\site-packages\\browser_use\\observability.py:73\u001b[39m, in \u001b[36m_create_no_op_decorator.<locals>.decorator.<locals>.async_wrapper\u001b[39m\u001b[34m(*args, **kwargs)\u001b[39m\n\u001b[32m     71\u001b[39m \u001b[38;5;129m@wraps\u001b[39m(func)\n\u001b[32m     72\u001b[39m \u001b[38;5;28;01masync\u001b[39;00m \u001b[38;5;28;01mdef\u001b[39;00m\u001b[38;5;250m \u001b[39m\u001b[34masync_wrapper\u001b[39m(*args, **kwargs):\n\u001b[32m---> \u001b[39m\u001b[32m73\u001b[39m \t\u001b[38;5;28;01mreturn\u001b[39;00m \u001b[38;5;28;01mawait\u001b[39;00m func(*args, **kwargs)\n",
      "\u001b[36mFile \u001b[39m\u001b[32mc:\\Users\\tejas.sinroja\\Eerly\\SAP_Config_Hub\\.venv\\Lib\\site-packages\\browser_use\\browser\\watchdogs\\local_browser_watchdog.py:54\u001b[39m, in \u001b[36mLocalBrowserWatchdog.on_BrowserLaunchEvent\u001b[39m\u001b[34m(self, event)\u001b[39m\n\u001b[32m     51\u001b[39m \u001b[38;5;28mself\u001b[39m.logger.debug(\u001b[33m'\u001b[39m\u001b[33m[LocalBrowserWatchdog] Received BrowserLaunchEvent, launching local browser...\u001b[39m\u001b[33m'\u001b[39m)\n\u001b[32m     53\u001b[39m \u001b[38;5;66;03m# self.logger.debug('[LocalBrowserWatchdog] Calling _launch_browser...')\u001b[39;00m\n\u001b[32m---> \u001b[39m\u001b[32m54\u001b[39m process, cdp_url = \u001b[38;5;28;01mawait\u001b[39;00m \u001b[38;5;28mself\u001b[39m._launch_browser()\n\u001b[32m     55\u001b[39m \u001b[38;5;28mself\u001b[39m._subprocess = process\n\u001b[32m     56\u001b[39m \u001b[38;5;66;03m# self.logger.debug(f'[LocalBrowserWatchdog] _launch_browser returned: process={process}, cdp_url={cdp_url}')\u001b[39;00m\n",
      "\u001b[36mFile \u001b[39m\u001b[32mc:\\Users\\tejas.sinroja\\Eerly\\SAP_Config_Hub\\.venv\\Lib\\site-packages\\browser_use\\observability.py:73\u001b[39m, in \u001b[36m_create_no_op_decorator.<locals>.decorator.<locals>.async_wrapper\u001b[39m\u001b[34m(*args, **kwargs)\u001b[39m\n\u001b[32m     71\u001b[39m \u001b[38;5;129m@wraps\u001b[39m(func)\n\u001b[32m     72\u001b[39m \u001b[38;5;28;01masync\u001b[39;00m \u001b[38;5;28;01mdef\u001b[39;00m\u001b[38;5;250m \u001b[39m\u001b[34masync_wrapper\u001b[39m(*args, **kwargs):\n\u001b[32m---> \u001b[39m\u001b[32m73\u001b[39m \t\u001b[38;5;28;01mreturn\u001b[39;00m \u001b[38;5;28;01mawait\u001b[39;00m func(*args, **kwargs)\n",
      "\u001b[36mFile \u001b[39m\u001b[32mc:\\Users\\tejas.sinroja\\Eerly\\SAP_Config_Hub\\.venv\\Lib\\site-packages\\browser_use\\browser\\watchdogs\\local_browser_watchdog.py:144\u001b[39m, in \u001b[36mLocalBrowserWatchdog._launch_browser\u001b[39m\u001b[34m(self, max_retries)\u001b[39m\n\u001b[32m    140\u001b[39m \u001b[38;5;28mself\u001b[39m.logger.debug(\u001b[33mf\u001b[39m\u001b[33m'\u001b[39m\u001b[33m[LocalBrowserWatchdog] 🚀 Launching browser subprocess with \u001b[39m\u001b[38;5;132;01m{\u001b[39;00m\u001b[38;5;28mlen\u001b[39m(launch_args)\u001b[38;5;132;01m}\u001b[39;00m\u001b[33m args...\u001b[39m\u001b[33m'\u001b[39m)\n\u001b[32m    141\u001b[39m \u001b[38;5;28mself\u001b[39m.logger.debug(\n\u001b[32m    142\u001b[39m \t\u001b[33mf\u001b[39m\u001b[33m'\u001b[39m\u001b[33m[LocalBrowserWatchdog] 📂 user_data_dir=\u001b[39m\u001b[38;5;132;01m{\u001b[39;00mprofile.user_data_dir\u001b[38;5;132;01m}\u001b[39;00m\u001b[33m, profile_directory=\u001b[39m\u001b[38;5;132;01m{\u001b[39;00mprofile.profile_directory\u001b[38;5;132;01m}\u001b[39;00m\u001b[33m'\u001b[39m\n\u001b[32m    143\u001b[39m )\n\u001b[32m--> \u001b[39m\u001b[32m144\u001b[39m subprocess = \u001b[38;5;28;01mawait\u001b[39;00m asyncio.create_subprocess_exec(\n\u001b[32m    145\u001b[39m \tbrowser_path,\n\u001b[32m    146\u001b[39m \t*launch_args,\n\u001b[32m    147\u001b[39m \tstdout=asyncio.subprocess.PIPE,\n\u001b[32m    148\u001b[39m \tstderr=asyncio.subprocess.PIPE,\n\u001b[32m    149\u001b[39m )\n\u001b[32m    150\u001b[39m \u001b[38;5;28mself\u001b[39m.logger.debug(\n\u001b[32m    151\u001b[39m \t\u001b[33mf\u001b[39m\u001b[33m'\u001b[39m\u001b[33m[LocalBrowserWatchdog] 🎭 Browser running with browser_pid= \u001b[39m\u001b[38;5;132;01m{\u001b[39;00msubprocess.pid\u001b[38;5;132;01m}\u001b[39;00m\u001b[33m 🔗 listening on CDP port :\u001b[39m\u001b[38;5;132;01m{\u001b[39;00mdebug_port\u001b[38;5;132;01m}\u001b[39;00m\u001b[33m'\u001b[39m\n\u001b[32m    152\u001b[39m )\n\u001b[32m    154\u001b[39m \u001b[38;5;66;03m# Convert to psutil.Process\u001b[39;00m\n",
      "\u001b[36mFile \u001b[39m\u001b[32m~\\AppData\\Roaming\\uv\\python\\cpython-3.12.11-windows-x86_64-none\\Lib\\asyncio\\subprocess.py:224\u001b[39m, in \u001b[36mcreate_subprocess_exec\u001b[39m\u001b[34m(program, stdin, stdout, stderr, limit, *args, **kwds)\u001b[39m\n\u001b[32m    221\u001b[39m loop = events.get_running_loop()\n\u001b[32m    222\u001b[39m protocol_factory = \u001b[38;5;28;01mlambda\u001b[39;00m: SubprocessStreamProtocol(limit=limit,\n\u001b[32m    223\u001b[39m                                                     loop=loop)\n\u001b[32m--> \u001b[39m\u001b[32m224\u001b[39m transport, protocol = \u001b[38;5;28;01mawait\u001b[39;00m loop.subprocess_exec(\n\u001b[32m    225\u001b[39m     protocol_factory,\n\u001b[32m    226\u001b[39m     program, *args,\n\u001b[32m    227\u001b[39m     stdin=stdin, stdout=stdout,\n\u001b[32m    228\u001b[39m     stderr=stderr, **kwds)\n\u001b[32m    229\u001b[39m \u001b[38;5;28;01mreturn\u001b[39;00m Process(transport, protocol, loop)\n",
      "\u001b[36mFile \u001b[39m\u001b[32m~\\AppData\\Roaming\\uv\\python\\cpython-3.12.11-windows-x86_64-none\\Lib\\asyncio\\base_events.py:1756\u001b[39m, in \u001b[36mBaseEventLoop.subprocess_exec\u001b[39m\u001b[34m(self, protocol_factory, program, stdin, stdout, stderr, universal_newlines, shell, bufsize, encoding, errors, text, *args, **kwargs)\u001b[39m\n\u001b[32m   1754\u001b[39m     debug_log = \u001b[33mf\u001b[39m\u001b[33m'\u001b[39m\u001b[33mexecute program \u001b[39m\u001b[38;5;132;01m{\u001b[39;00mprogram\u001b[38;5;132;01m!r}\u001b[39;00m\u001b[33m'\u001b[39m\n\u001b[32m   1755\u001b[39m     \u001b[38;5;28mself\u001b[39m._log_subprocess(debug_log, stdin, stdout, stderr)\n\u001b[32m-> \u001b[39m\u001b[32m1756\u001b[39m transport = \u001b[38;5;28;01mawait\u001b[39;00m \u001b[38;5;28mself\u001b[39m._make_subprocess_transport(\n\u001b[32m   1757\u001b[39m     protocol, popen_args, \u001b[38;5;28;01mFalse\u001b[39;00m, stdin, stdout, stderr,\n\u001b[32m   1758\u001b[39m     bufsize, **kwargs)\n\u001b[32m   1759\u001b[39m \u001b[38;5;28;01mif\u001b[39;00m \u001b[38;5;28mself\u001b[39m._debug \u001b[38;5;129;01mand\u001b[39;00m debug_log \u001b[38;5;129;01mis\u001b[39;00m \u001b[38;5;129;01mnot\u001b[39;00m \u001b[38;5;28;01mNone\u001b[39;00m:\n\u001b[32m   1760\u001b[39m     logger.info(\u001b[33m'\u001b[39m\u001b[38;5;132;01m%s\u001b[39;00m\u001b[33m: \u001b[39m\u001b[38;5;132;01m%r\u001b[39;00m\u001b[33m'\u001b[39m, debug_log, transport)\n",
      "\u001b[36mFile \u001b[39m\u001b[32m~\\AppData\\Roaming\\uv\\python\\cpython-3.12.11-windows-x86_64-none\\Lib\\asyncio\\base_events.py:528\u001b[39m, in \u001b[36mBaseEventLoop._make_subprocess_transport\u001b[39m\u001b[34m(self, protocol, args, shell, stdin, stdout, stderr, bufsize, extra, **kwargs)\u001b[39m\n\u001b[32m    524\u001b[39m \u001b[38;5;28;01masync\u001b[39;00m \u001b[38;5;28;01mdef\u001b[39;00m\u001b[38;5;250m \u001b[39m\u001b[34m_make_subprocess_transport\u001b[39m(\u001b[38;5;28mself\u001b[39m, protocol, args, shell,\n\u001b[32m    525\u001b[39m                                      stdin, stdout, stderr, bufsize,\n\u001b[32m    526\u001b[39m                                      extra=\u001b[38;5;28;01mNone\u001b[39;00m, **kwargs):\n\u001b[32m    527\u001b[39m \u001b[38;5;250m    \u001b[39m\u001b[33;03m\"\"\"Create subprocess transport.\"\"\"\u001b[39;00m\n\u001b[32m--> \u001b[39m\u001b[32m528\u001b[39m     \u001b[38;5;28;01mraise\u001b[39;00m \u001b[38;5;167;01mNotImplementedError\u001b[39;00m\n",
      "\u001b[31mNotImplementedError\u001b[39m: "
     ]
    }
   ],
   "source": []
  },
  {
   "cell_type": "code",
   "execution_count": null,
   "id": "da53fb3d",
   "metadata": {},
   "outputs": [],
   "source": []
  }
 ],
 "metadata": {
  "kernelspec": {
   "display_name": "SAP_Config_Hub",
   "language": "python",
   "name": "python3"
  },
  "language_info": {
   "codemirror_mode": {
    "name": "ipython",
    "version": 3
   },
   "file_extension": ".py",
   "mimetype": "text/x-python",
   "name": "python",
   "nbconvert_exporter": "python",
   "pygments_lexer": "ipython3",
   "version": "3.12.11"
  }
 },
 "nbformat": 4,
 "nbformat_minor": 5
}
